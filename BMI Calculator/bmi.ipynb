{
 "cells": [
  {
   "cell_type": "code",
   "execution_count": 1,
   "id": "06b50532",
   "metadata": {},
   "outputs": [],
   "source": [
    "import pandas as pd\n",
    "import numpy as np\n",
    "import seaborn as sns\n",
    "import math\n",
    "from matplotlib import pyplot as plt\n",
    "from sklearn.preprocessing import LabelEncoder, OrdinalEncoder, OneHotEncoder\n",
    "from sklearn.model_selection import train_test_split, cross_val_score\n",
    "from sklearn.linear_model import LinearRegression, LogisticRegression\n",
    "from sklearn.metrics import accuracy_score, confusion_matrix, precision_score\n",
    "import pickle\n",
    "%matplotlib inline"
   ]
  },
  {
   "cell_type": "code",
   "execution_count": 2,
   "id": "5fcd2ae2",
   "metadata": {},
   "outputs": [
    {
     "data": {
      "text/html": [
       "<div>\n",
       "<style scoped>\n",
       "    .dataframe tbody tr th:only-of-type {\n",
       "        vertical-align: middle;\n",
       "    }\n",
       "\n",
       "    .dataframe tbody tr th {\n",
       "        vertical-align: top;\n",
       "    }\n",
       "\n",
       "    .dataframe thead th {\n",
       "        text-align: right;\n",
       "    }\n",
       "</style>\n",
       "<table border=\"1\" class=\"dataframe\">\n",
       "  <thead>\n",
       "    <tr style=\"text-align: right;\">\n",
       "      <th></th>\n",
       "      <th>Index</th>\n",
       "      <th>Height(Inches)</th>\n",
       "      <th>Weight(Pounds)</th>\n",
       "    </tr>\n",
       "  </thead>\n",
       "  <tbody>\n",
       "    <tr>\n",
       "      <th>0</th>\n",
       "      <td>1</td>\n",
       "      <td>65.78331</td>\n",
       "      <td>112.9925</td>\n",
       "    </tr>\n",
       "    <tr>\n",
       "      <th>1</th>\n",
       "      <td>2</td>\n",
       "      <td>71.51521</td>\n",
       "      <td>136.4873</td>\n",
       "    </tr>\n",
       "    <tr>\n",
       "      <th>2</th>\n",
       "      <td>3</td>\n",
       "      <td>69.39874</td>\n",
       "      <td>153.0269</td>\n",
       "    </tr>\n",
       "    <tr>\n",
       "      <th>3</th>\n",
       "      <td>4</td>\n",
       "      <td>68.21660</td>\n",
       "      <td>142.3354</td>\n",
       "    </tr>\n",
       "    <tr>\n",
       "      <th>4</th>\n",
       "      <td>5</td>\n",
       "      <td>67.78781</td>\n",
       "      <td>144.2971</td>\n",
       "    </tr>\n",
       "  </tbody>\n",
       "</table>\n",
       "</div>"
      ],
      "text/plain": [
       "   Index  Height(Inches)  Weight(Pounds)\n",
       "0      1        65.78331        112.9925\n",
       "1      2        71.51521        136.4873\n",
       "2      3        69.39874        153.0269\n",
       "3      4        68.21660        142.3354\n",
       "4      5        67.78781        144.2971"
      ]
     },
     "execution_count": 2,
     "metadata": {},
     "output_type": "execute_result"
    }
   ],
   "source": [
    "df = pd.read_csv('DataSet/HeightWeight.csv')\n",
    "df.head()"
   ]
  },
  {
   "cell_type": "code",
   "execution_count": 3,
   "id": "5f4fa736",
   "metadata": {},
   "outputs": [],
   "source": [
    "df.drop('Index', axis = 1, inplace=True)"
   ]
  },
  {
   "cell_type": "code",
   "execution_count": 4,
   "id": "b0927de0",
   "metadata": {
    "scrolled": true
   },
   "outputs": [
    {
     "data": {
      "text/html": [
       "<div>\n",
       "<style scoped>\n",
       "    .dataframe tbody tr th:only-of-type {\n",
       "        vertical-align: middle;\n",
       "    }\n",
       "\n",
       "    .dataframe tbody tr th {\n",
       "        vertical-align: top;\n",
       "    }\n",
       "\n",
       "    .dataframe thead th {\n",
       "        text-align: right;\n",
       "    }\n",
       "</style>\n",
       "<table border=\"1\" class=\"dataframe\">\n",
       "  <thead>\n",
       "    <tr style=\"text-align: right;\">\n",
       "      <th></th>\n",
       "      <th>Height(Inches)</th>\n",
       "      <th>Weight(Pounds)</th>\n",
       "    </tr>\n",
       "  </thead>\n",
       "  <tbody>\n",
       "    <tr>\n",
       "      <th>0</th>\n",
       "      <td>65.78331</td>\n",
       "      <td>112.9925</td>\n",
       "    </tr>\n",
       "    <tr>\n",
       "      <th>1</th>\n",
       "      <td>71.51521</td>\n",
       "      <td>136.4873</td>\n",
       "    </tr>\n",
       "    <tr>\n",
       "      <th>2</th>\n",
       "      <td>69.39874</td>\n",
       "      <td>153.0269</td>\n",
       "    </tr>\n",
       "    <tr>\n",
       "      <th>3</th>\n",
       "      <td>68.21660</td>\n",
       "      <td>142.3354</td>\n",
       "    </tr>\n",
       "    <tr>\n",
       "      <th>4</th>\n",
       "      <td>67.78781</td>\n",
       "      <td>144.2971</td>\n",
       "    </tr>\n",
       "  </tbody>\n",
       "</table>\n",
       "</div>"
      ],
      "text/plain": [
       "   Height(Inches)  Weight(Pounds)\n",
       "0        65.78331        112.9925\n",
       "1        71.51521        136.4873\n",
       "2        69.39874        153.0269\n",
       "3        68.21660        142.3354\n",
       "4        67.78781        144.2971"
      ]
     },
     "execution_count": 4,
     "metadata": {},
     "output_type": "execute_result"
    }
   ],
   "source": [
    "df.head()"
   ]
  },
  {
   "cell_type": "code",
   "execution_count": 5,
   "id": "aae3c29c",
   "metadata": {},
   "outputs": [],
   "source": [
    "df.insert(2, 'weight_in_kg', df['Weight(Pounds)'] / 2.205)\n",
    "df.insert(3, 'height_in_meter', df['Height(Inches)'] / 39.37)"
   ]
  },
  {
   "cell_type": "code",
   "execution_count": 6,
   "id": "6a435982",
   "metadata": {
    "scrolled": true
   },
   "outputs": [
    {
     "data": {
      "text/html": [
       "<div>\n",
       "<style scoped>\n",
       "    .dataframe tbody tr th:only-of-type {\n",
       "        vertical-align: middle;\n",
       "    }\n",
       "\n",
       "    .dataframe tbody tr th {\n",
       "        vertical-align: top;\n",
       "    }\n",
       "\n",
       "    .dataframe thead th {\n",
       "        text-align: right;\n",
       "    }\n",
       "</style>\n",
       "<table border=\"1\" class=\"dataframe\">\n",
       "  <thead>\n",
       "    <tr style=\"text-align: right;\">\n",
       "      <th></th>\n",
       "      <th>Height(Inches)</th>\n",
       "      <th>Weight(Pounds)</th>\n",
       "      <th>weight_in_kg</th>\n",
       "      <th>height_in_meter</th>\n",
       "    </tr>\n",
       "  </thead>\n",
       "  <tbody>\n",
       "    <tr>\n",
       "      <th>0</th>\n",
       "      <td>65.78331</td>\n",
       "      <td>112.9925</td>\n",
       "      <td>51.243764</td>\n",
       "      <td>1.670899</td>\n",
       "    </tr>\n",
       "    <tr>\n",
       "      <th>1</th>\n",
       "      <td>71.51521</td>\n",
       "      <td>136.4873</td>\n",
       "      <td>61.899002</td>\n",
       "      <td>1.816490</td>\n",
       "    </tr>\n",
       "    <tr>\n",
       "      <th>2</th>\n",
       "      <td>69.39874</td>\n",
       "      <td>153.0269</td>\n",
       "      <td>69.399955</td>\n",
       "      <td>1.762732</td>\n",
       "    </tr>\n",
       "    <tr>\n",
       "      <th>3</th>\n",
       "      <td>68.21660</td>\n",
       "      <td>142.3354</td>\n",
       "      <td>64.551202</td>\n",
       "      <td>1.732705</td>\n",
       "    </tr>\n",
       "    <tr>\n",
       "      <th>4</th>\n",
       "      <td>67.78781</td>\n",
       "      <td>144.2971</td>\n",
       "      <td>65.440862</td>\n",
       "      <td>1.721814</td>\n",
       "    </tr>\n",
       "  </tbody>\n",
       "</table>\n",
       "</div>"
      ],
      "text/plain": [
       "   Height(Inches)  Weight(Pounds)  weight_in_kg  height_in_meter\n",
       "0        65.78331        112.9925     51.243764         1.670899\n",
       "1        71.51521        136.4873     61.899002         1.816490\n",
       "2        69.39874        153.0269     69.399955         1.762732\n",
       "3        68.21660        142.3354     64.551202         1.732705\n",
       "4        67.78781        144.2971     65.440862         1.721814"
      ]
     },
     "execution_count": 6,
     "metadata": {},
     "output_type": "execute_result"
    }
   ],
   "source": [
    "df.head()"
   ]
  },
  {
   "cell_type": "code",
   "execution_count": 7,
   "id": "1e7395c5",
   "metadata": {},
   "outputs": [
    {
     "data": {
      "text/html": [
       "<div>\n",
       "<style scoped>\n",
       "    .dataframe tbody tr th:only-of-type {\n",
       "        vertical-align: middle;\n",
       "    }\n",
       "\n",
       "    .dataframe tbody tr th {\n",
       "        vertical-align: top;\n",
       "    }\n",
       "\n",
       "    .dataframe thead th {\n",
       "        text-align: right;\n",
       "    }\n",
       "</style>\n",
       "<table border=\"1\" class=\"dataframe\">\n",
       "  <thead>\n",
       "    <tr style=\"text-align: right;\">\n",
       "      <th></th>\n",
       "      <th>Height(Inches)</th>\n",
       "      <th>Weight(Pounds)</th>\n",
       "      <th>weight_in_kg</th>\n",
       "      <th>height_in_meter</th>\n",
       "    </tr>\n",
       "  </thead>\n",
       "  <tbody>\n",
       "    <tr>\n",
       "      <th>Height(Inches)</th>\n",
       "      <td>1.000000</td>\n",
       "      <td>0.502859</td>\n",
       "      <td>0.502859</td>\n",
       "      <td>1.000000</td>\n",
       "    </tr>\n",
       "    <tr>\n",
       "      <th>Weight(Pounds)</th>\n",
       "      <td>0.502859</td>\n",
       "      <td>1.000000</td>\n",
       "      <td>1.000000</td>\n",
       "      <td>0.502859</td>\n",
       "    </tr>\n",
       "    <tr>\n",
       "      <th>weight_in_kg</th>\n",
       "      <td>0.502859</td>\n",
       "      <td>1.000000</td>\n",
       "      <td>1.000000</td>\n",
       "      <td>0.502859</td>\n",
       "    </tr>\n",
       "    <tr>\n",
       "      <th>height_in_meter</th>\n",
       "      <td>1.000000</td>\n",
       "      <td>0.502859</td>\n",
       "      <td>0.502859</td>\n",
       "      <td>1.000000</td>\n",
       "    </tr>\n",
       "  </tbody>\n",
       "</table>\n",
       "</div>"
      ],
      "text/plain": [
       "                 Height(Inches)  Weight(Pounds)  weight_in_kg  height_in_meter\n",
       "Height(Inches)         1.000000        0.502859      0.502859         1.000000\n",
       "Weight(Pounds)         0.502859        1.000000      1.000000         0.502859\n",
       "weight_in_kg           0.502859        1.000000      1.000000         0.502859\n",
       "height_in_meter        1.000000        0.502859      0.502859         1.000000"
      ]
     },
     "execution_count": 7,
     "metadata": {},
     "output_type": "execute_result"
    }
   ],
   "source": [
    "df.corr()"
   ]
  },
  {
   "cell_type": "markdown",
   "id": "8fa58454",
   "metadata": {},
   "source": [
    "# BMI\n",
    "### Formula :-\n",
    "* Weight = 68 Kg, Height = 165 cm (1.65)^2 = 24.98\n",
    "* `df.weight_in_kg / np.power(df.height_in_meter, 2)`"
   ]
  },
  {
   "cell_type": "markdown",
   "id": "a28ae10a",
   "metadata": {},
   "source": [
    "<table>\n",
    "    <thead>\n",
    "        <th>BMI</th>\n",
    "        <th>Status</th>\n",
    "    </thead>\n",
    "    <tbody>\n",
    "        <tr>\n",
    "            <td><=18.4</td>\n",
    "            <td>Under Weight</td>\n",
    "        </tr>\n",
    "        <tr>\n",
    "            <td>18.5 - 24.9</td>\n",
    "            <td>Normal</td>\n",
    "        </tr>\n",
    "        <tr>\n",
    "            <td>25 - 39.9</td>\n",
    "            <td>Over Weight</td>\n",
    "        </tr>\n",
    "        <tr>\n",
    "            <td>>=18.4</td>\n",
    "            <td>Obese</td>\n",
    "        </tr>\n",
    "    </tbody>\n",
    "</table>"
   ]
  },
  {
   "cell_type": "code",
   "execution_count": 8,
   "id": "a063576b",
   "metadata": {
    "scrolled": true
   },
   "outputs": [
    {
     "name": "stdout",
     "output_type": "stream",
     "text": [
      "<class 'pandas.core.series.Series'>\n",
      "RangeIndex: 25000 entries, 0 to 24999\n",
      "Series name: weight_in_kg\n",
      "Non-Null Count  Dtype  \n",
      "--------------  -----  \n",
      "25000 non-null  float64\n",
      "dtypes: float64(1)\n",
      "memory usage: 195.4 KB\n"
     ]
    }
   ],
   "source": [
    "df.weight_in_kg.info()"
   ]
  },
  {
   "cell_type": "code",
   "execution_count": 9,
   "id": "cfb54c4d",
   "metadata": {
    "scrolled": true
   },
   "outputs": [
    {
     "name": "stdout",
     "output_type": "stream",
     "text": [
      "<class 'pandas.core.series.Series'>\n",
      "RangeIndex: 25000 entries, 0 to 24999\n",
      "Series name: height_in_meter\n",
      "Non-Null Count  Dtype  \n",
      "--------------  -----  \n",
      "25000 non-null  float64\n",
      "dtypes: float64(1)\n",
      "memory usage: 195.4 KB\n"
     ]
    }
   ],
   "source": [
    "df.height_in_meter.info()"
   ]
  },
  {
   "cell_type": "code",
   "execution_count": 10,
   "id": "9c01ed26",
   "metadata": {
    "scrolled": true
   },
   "outputs": [
    {
     "data": {
      "text/html": [
       "<div>\n",
       "<style scoped>\n",
       "    .dataframe tbody tr th:only-of-type {\n",
       "        vertical-align: middle;\n",
       "    }\n",
       "\n",
       "    .dataframe tbody tr th {\n",
       "        vertical-align: top;\n",
       "    }\n",
       "\n",
       "    .dataframe thead th {\n",
       "        text-align: right;\n",
       "    }\n",
       "</style>\n",
       "<table border=\"1\" class=\"dataframe\">\n",
       "  <thead>\n",
       "    <tr style=\"text-align: right;\">\n",
       "      <th></th>\n",
       "      <th>Height(Inches)</th>\n",
       "      <th>Weight(Pounds)</th>\n",
       "      <th>weight_in_kg</th>\n",
       "      <th>height_in_meter</th>\n",
       "    </tr>\n",
       "  </thead>\n",
       "  <tbody>\n",
       "    <tr>\n",
       "      <th>0</th>\n",
       "      <td>65.78331</td>\n",
       "      <td>112.9925</td>\n",
       "      <td>51.243764</td>\n",
       "      <td>1.670899</td>\n",
       "    </tr>\n",
       "    <tr>\n",
       "      <th>1</th>\n",
       "      <td>71.51521</td>\n",
       "      <td>136.4873</td>\n",
       "      <td>61.899002</td>\n",
       "      <td>1.816490</td>\n",
       "    </tr>\n",
       "    <tr>\n",
       "      <th>2</th>\n",
       "      <td>69.39874</td>\n",
       "      <td>153.0269</td>\n",
       "      <td>69.399955</td>\n",
       "      <td>1.762732</td>\n",
       "    </tr>\n",
       "    <tr>\n",
       "      <th>3</th>\n",
       "      <td>68.21660</td>\n",
       "      <td>142.3354</td>\n",
       "      <td>64.551202</td>\n",
       "      <td>1.732705</td>\n",
       "    </tr>\n",
       "    <tr>\n",
       "      <th>4</th>\n",
       "      <td>67.78781</td>\n",
       "      <td>144.2971</td>\n",
       "      <td>65.440862</td>\n",
       "      <td>1.721814</td>\n",
       "    </tr>\n",
       "  </tbody>\n",
       "</table>\n",
       "</div>"
      ],
      "text/plain": [
       "   Height(Inches)  Weight(Pounds)  weight_in_kg  height_in_meter\n",
       "0        65.78331        112.9925     51.243764         1.670899\n",
       "1        71.51521        136.4873     61.899002         1.816490\n",
       "2        69.39874        153.0269     69.399955         1.762732\n",
       "3        68.21660        142.3354     64.551202         1.732705\n",
       "4        67.78781        144.2971     65.440862         1.721814"
      ]
     },
     "execution_count": 10,
     "metadata": {},
     "output_type": "execute_result"
    }
   ],
   "source": [
    "df.head()"
   ]
  },
  {
   "cell_type": "code",
   "execution_count": 11,
   "id": "5f636547",
   "metadata": {
    "scrolled": true
   },
   "outputs": [
    {
     "name": "stdout",
     "output_type": "stream",
     "text": [
      "<class 'pandas.core.series.Series'>\n",
      "RangeIndex: 25000 entries, 0 to 24999\n",
      "Series name: weight_in_kg\n",
      "Non-Null Count  Dtype  \n",
      "--------------  -----  \n",
      "25000 non-null  float64\n",
      "dtypes: float64(1)\n",
      "memory usage: 195.4 KB\n"
     ]
    }
   ],
   "source": [
    "df.weight_in_kg.info()"
   ]
  },
  {
   "cell_type": "code",
   "execution_count": 12,
   "id": "5b3675ca",
   "metadata": {},
   "outputs": [],
   "source": [
    "df.insert(4, 'BMI_Value', df.weight_in_kg / np.power(df.height_in_meter, 2))"
   ]
  },
  {
   "cell_type": "code",
   "execution_count": 13,
   "id": "8aa4ba8c",
   "metadata": {},
   "outputs": [
    {
     "data": {
      "text/html": [
       "<div>\n",
       "<style scoped>\n",
       "    .dataframe tbody tr th:only-of-type {\n",
       "        vertical-align: middle;\n",
       "    }\n",
       "\n",
       "    .dataframe tbody tr th {\n",
       "        vertical-align: top;\n",
       "    }\n",
       "\n",
       "    .dataframe thead th {\n",
       "        text-align: right;\n",
       "    }\n",
       "</style>\n",
       "<table border=\"1\" class=\"dataframe\">\n",
       "  <thead>\n",
       "    <tr style=\"text-align: right;\">\n",
       "      <th></th>\n",
       "      <th>Height(Inches)</th>\n",
       "      <th>Weight(Pounds)</th>\n",
       "      <th>weight_in_kg</th>\n",
       "      <th>height_in_meter</th>\n",
       "      <th>BMI_Value</th>\n",
       "    </tr>\n",
       "  </thead>\n",
       "  <tbody>\n",
       "    <tr>\n",
       "      <th>0</th>\n",
       "      <td>65.78331</td>\n",
       "      <td>112.9925</td>\n",
       "      <td>51.243764</td>\n",
       "      <td>1.670899</td>\n",
       "      <td>18.354409</td>\n",
       "    </tr>\n",
       "    <tr>\n",
       "      <th>1</th>\n",
       "      <td>71.51521</td>\n",
       "      <td>136.4873</td>\n",
       "      <td>61.899002</td>\n",
       "      <td>1.816490</td>\n",
       "      <td>18.759344</td>\n",
       "    </tr>\n",
       "    <tr>\n",
       "      <th>2</th>\n",
       "      <td>69.39874</td>\n",
       "      <td>153.0269</td>\n",
       "      <td>69.399955</td>\n",
       "      <td>1.762732</td>\n",
       "      <td>22.335046</td>\n",
       "    </tr>\n",
       "    <tr>\n",
       "      <th>3</th>\n",
       "      <td>68.21660</td>\n",
       "      <td>142.3354</td>\n",
       "      <td>64.551202</td>\n",
       "      <td>1.732705</td>\n",
       "      <td>21.500820</td>\n",
       "    </tr>\n",
       "    <tr>\n",
       "      <th>4</th>\n",
       "      <td>67.78781</td>\n",
       "      <td>144.2971</td>\n",
       "      <td>65.440862</td>\n",
       "      <td>1.721814</td>\n",
       "      <td>22.073776</td>\n",
       "    </tr>\n",
       "  </tbody>\n",
       "</table>\n",
       "</div>"
      ],
      "text/plain": [
       "   Height(Inches)  Weight(Pounds)  weight_in_kg  height_in_meter  BMI_Value\n",
       "0        65.78331        112.9925     51.243764         1.670899  18.354409\n",
       "1        71.51521        136.4873     61.899002         1.816490  18.759344\n",
       "2        69.39874        153.0269     69.399955         1.762732  22.335046\n",
       "3        68.21660        142.3354     64.551202         1.732705  21.500820\n",
       "4        67.78781        144.2971     65.440862         1.721814  22.073776"
      ]
     },
     "execution_count": 13,
     "metadata": {},
     "output_type": "execute_result"
    }
   ],
   "source": [
    "df.head()"
   ]
  },
  {
   "cell_type": "code",
   "execution_count": 14,
   "id": "086f2887",
   "metadata": {},
   "outputs": [],
   "source": [
    "def classifyBmi(x):\n",
    "    bmilist = []\n",
    "    a = x.value_counts().sum()\n",
    "    for i in range(a):\n",
    "        if x[i]<=18.4:\n",
    "            bmilist.append('Under Weight')\n",
    "        elif x[i] < 24.9:\n",
    "            bmilist.append('Normal')\n",
    "        elif x[i] < 39.9:\n",
    "            bmilist.append('Over Weight')\n",
    "        else: bmilist.append('Obese')\n",
    "    return bmilist"
   ]
  },
  {
   "cell_type": "code",
   "execution_count": 15,
   "id": "c54f1938",
   "metadata": {},
   "outputs": [
    {
     "data": {
      "text/plain": [
       "25000"
      ]
     },
     "execution_count": 15,
     "metadata": {},
     "output_type": "execute_result"
    }
   ],
   "source": [
    "df.BMI_Value.value_counts().sum()"
   ]
  },
  {
   "cell_type": "code",
   "execution_count": 16,
   "id": "46d57cb9",
   "metadata": {},
   "outputs": [
    {
     "data": {
      "text/plain": [
       "18.35440918794094"
      ]
     },
     "execution_count": 16,
     "metadata": {},
     "output_type": "execute_result"
    }
   ],
   "source": [
    "df.BMI_Value[0]"
   ]
  },
  {
   "cell_type": "code",
   "execution_count": 17,
   "id": "43172fce",
   "metadata": {},
   "outputs": [],
   "source": [
    "myList = classifyBmi(df.BMI_Value)"
   ]
  },
  {
   "cell_type": "code",
   "execution_count": 18,
   "id": "178276e0",
   "metadata": {},
   "outputs": [],
   "source": [
    "df.insert(5, 'BMI_Result', myList)"
   ]
  },
  {
   "cell_type": "code",
   "execution_count": 19,
   "id": "671d0c67",
   "metadata": {},
   "outputs": [
    {
     "data": {
      "text/html": [
       "<div>\n",
       "<style scoped>\n",
       "    .dataframe tbody tr th:only-of-type {\n",
       "        vertical-align: middle;\n",
       "    }\n",
       "\n",
       "    .dataframe tbody tr th {\n",
       "        vertical-align: top;\n",
       "    }\n",
       "\n",
       "    .dataframe thead th {\n",
       "        text-align: right;\n",
       "    }\n",
       "</style>\n",
       "<table border=\"1\" class=\"dataframe\">\n",
       "  <thead>\n",
       "    <tr style=\"text-align: right;\">\n",
       "      <th></th>\n",
       "      <th>Height(Inches)</th>\n",
       "      <th>Weight(Pounds)</th>\n",
       "      <th>weight_in_kg</th>\n",
       "      <th>height_in_meter</th>\n",
       "      <th>BMI_Value</th>\n",
       "      <th>BMI_Result</th>\n",
       "    </tr>\n",
       "  </thead>\n",
       "  <tbody>\n",
       "    <tr>\n",
       "      <th>6602</th>\n",
       "      <td>69.06664</td>\n",
       "      <td>131.9619</td>\n",
       "      <td>59.846667</td>\n",
       "      <td>1.754296</td>\n",
       "      <td>19.446173</td>\n",
       "      <td>Normal</td>\n",
       "    </tr>\n",
       "    <tr>\n",
       "      <th>17313</th>\n",
       "      <td>69.99442</td>\n",
       "      <td>124.9403</td>\n",
       "      <td>56.662268</td>\n",
       "      <td>1.777862</td>\n",
       "      <td>17.926601</td>\n",
       "      <td>Under Weight</td>\n",
       "    </tr>\n",
       "    <tr>\n",
       "      <th>16436</th>\n",
       "      <td>67.85083</td>\n",
       "      <td>104.3679</td>\n",
       "      <td>47.332381</td>\n",
       "      <td>1.723415</td>\n",
       "      <td>15.935983</td>\n",
       "      <td>Under Weight</td>\n",
       "    </tr>\n",
       "    <tr>\n",
       "      <th>8716</th>\n",
       "      <td>69.00290</td>\n",
       "      <td>124.9629</td>\n",
       "      <td>56.672517</td>\n",
       "      <td>1.752677</td>\n",
       "      <td>18.448822</td>\n",
       "      <td>Normal</td>\n",
       "    </tr>\n",
       "    <tr>\n",
       "      <th>22972</th>\n",
       "      <td>70.38587</td>\n",
       "      <td>126.0902</td>\n",
       "      <td>57.183764</td>\n",
       "      <td>1.787805</td>\n",
       "      <td>17.890917</td>\n",
       "      <td>Under Weight</td>\n",
       "    </tr>\n",
       "  </tbody>\n",
       "</table>\n",
       "</div>"
      ],
      "text/plain": [
       "       Height(Inches)  Weight(Pounds)  weight_in_kg  height_in_meter  \\\n",
       "6602         69.06664        131.9619     59.846667         1.754296   \n",
       "17313        69.99442        124.9403     56.662268         1.777862   \n",
       "16436        67.85083        104.3679     47.332381         1.723415   \n",
       "8716         69.00290        124.9629     56.672517         1.752677   \n",
       "22972        70.38587        126.0902     57.183764         1.787805   \n",
       "\n",
       "       BMI_Value    BMI_Result  \n",
       "6602   19.446173        Normal  \n",
       "17313  17.926601  Under Weight  \n",
       "16436  15.935983  Under Weight  \n",
       "8716   18.448822        Normal  \n",
       "22972  17.890917  Under Weight  "
      ]
     },
     "execution_count": 19,
     "metadata": {},
     "output_type": "execute_result"
    }
   ],
   "source": [
    "df.sample(5)"
   ]
  },
  {
   "cell_type": "code",
   "execution_count": 20,
   "id": "8d398278",
   "metadata": {
    "scrolled": true
   },
   "outputs": [
    {
     "data": {
      "text/plain": [
       "array(['Under Weight', 'Normal', 'Over Weight'], dtype=object)"
      ]
     },
     "execution_count": 20,
     "metadata": {},
     "output_type": "execute_result"
    }
   ],
   "source": [
    "df.BMI_Result.unique()"
   ]
  },
  {
   "cell_type": "code",
   "execution_count": 21,
   "id": "83c3ca9a",
   "metadata": {
    "scrolled": false
   },
   "outputs": [
    {
     "data": {
      "text/plain": [
       "Normal          18095\n",
       "Under Weight     6899\n",
       "Over Weight         6\n",
       "Name: BMI_Result, dtype: int64"
      ]
     },
     "execution_count": 21,
     "metadata": {},
     "output_type": "execute_result"
    }
   ],
   "source": [
    "df.BMI_Result.value_counts()"
   ]
  },
  {
   "cell_type": "code",
   "execution_count": 22,
   "id": "e21fac40",
   "metadata": {},
   "outputs": [
    {
     "data": {
      "text/plain": [
       "0        Under Weight\n",
       "1              Normal\n",
       "2              Normal\n",
       "3              Normal\n",
       "4              Normal\n",
       "             ...     \n",
       "24995    Under Weight\n",
       "24996          Normal\n",
       "24997          Normal\n",
       "24998          Normal\n",
       "24999          Normal\n",
       "Name: BMI_Result, Length: 25000, dtype: object"
      ]
     },
     "execution_count": 22,
     "metadata": {},
     "output_type": "execute_result"
    }
   ],
   "source": [
    "df.BMI_Result"
   ]
  },
  {
   "cell_type": "code",
   "execution_count": 23,
   "id": "3c2f8aa6",
   "metadata": {},
   "outputs": [],
   "source": [
    "le = LabelEncoder()\n",
    "df.insert(6, 'BMI_Encoded', le.fit_transform(df.BMI_Result))"
   ]
  },
  {
   "cell_type": "code",
   "execution_count": 24,
   "id": "e6f202b0",
   "metadata": {
    "scrolled": true
   },
   "outputs": [
    {
     "data": {
      "text/html": [
       "<div>\n",
       "<style scoped>\n",
       "    .dataframe tbody tr th:only-of-type {\n",
       "        vertical-align: middle;\n",
       "    }\n",
       "\n",
       "    .dataframe tbody tr th {\n",
       "        vertical-align: top;\n",
       "    }\n",
       "\n",
       "    .dataframe thead th {\n",
       "        text-align: right;\n",
       "    }\n",
       "</style>\n",
       "<table border=\"1\" class=\"dataframe\">\n",
       "  <thead>\n",
       "    <tr style=\"text-align: right;\">\n",
       "      <th></th>\n",
       "      <th>Height(Inches)</th>\n",
       "      <th>Weight(Pounds)</th>\n",
       "      <th>weight_in_kg</th>\n",
       "      <th>height_in_meter</th>\n",
       "      <th>BMI_Value</th>\n",
       "      <th>BMI_Result</th>\n",
       "      <th>BMI_Encoded</th>\n",
       "    </tr>\n",
       "  </thead>\n",
       "  <tbody>\n",
       "    <tr>\n",
       "      <th>19983</th>\n",
       "      <td>67.62555</td>\n",
       "      <td>116.0675</td>\n",
       "      <td>52.638322</td>\n",
       "      <td>1.717692</td>\n",
       "      <td>17.840674</td>\n",
       "      <td>Under Weight</td>\n",
       "      <td>2</td>\n",
       "    </tr>\n",
       "    <tr>\n",
       "      <th>8773</th>\n",
       "      <td>65.08665</td>\n",
       "      <td>120.4446</td>\n",
       "      <td>54.623401</td>\n",
       "      <td>1.653204</td>\n",
       "      <td>19.985993</td>\n",
       "      <td>Normal</td>\n",
       "      <td>0</td>\n",
       "    </tr>\n",
       "    <tr>\n",
       "      <th>2132</th>\n",
       "      <td>68.79538</td>\n",
       "      <td>130.9320</td>\n",
       "      <td>59.379592</td>\n",
       "      <td>1.747406</td>\n",
       "      <td>19.446860</td>\n",
       "      <td>Normal</td>\n",
       "      <td>0</td>\n",
       "    </tr>\n",
       "    <tr>\n",
       "      <th>23039</th>\n",
       "      <td>73.95494</td>\n",
       "      <td>154.3987</td>\n",
       "      <td>70.022086</td>\n",
       "      <td>1.878459</td>\n",
       "      <td>19.844104</td>\n",
       "      <td>Normal</td>\n",
       "      <td>0</td>\n",
       "    </tr>\n",
       "    <tr>\n",
       "      <th>24813</th>\n",
       "      <td>66.36458</td>\n",
       "      <td>116.3494</td>\n",
       "      <td>52.766168</td>\n",
       "      <td>1.685664</td>\n",
       "      <td>18.570076</td>\n",
       "      <td>Normal</td>\n",
       "      <td>0</td>\n",
       "    </tr>\n",
       "  </tbody>\n",
       "</table>\n",
       "</div>"
      ],
      "text/plain": [
       "       Height(Inches)  Weight(Pounds)  weight_in_kg  height_in_meter  \\\n",
       "19983        67.62555        116.0675     52.638322         1.717692   \n",
       "8773         65.08665        120.4446     54.623401         1.653204   \n",
       "2132         68.79538        130.9320     59.379592         1.747406   \n",
       "23039        73.95494        154.3987     70.022086         1.878459   \n",
       "24813        66.36458        116.3494     52.766168         1.685664   \n",
       "\n",
       "       BMI_Value    BMI_Result  BMI_Encoded  \n",
       "19983  17.840674  Under Weight            2  \n",
       "8773   19.985993        Normal            0  \n",
       "2132   19.446860        Normal            0  \n",
       "23039  19.844104        Normal            0  \n",
       "24813  18.570076        Normal            0  "
      ]
     },
     "execution_count": 24,
     "metadata": {},
     "output_type": "execute_result"
    }
   ],
   "source": [
    "df.sample(5)"
   ]
  },
  {
   "cell_type": "code",
   "execution_count": 25,
   "id": "2f3a9628",
   "metadata": {},
   "outputs": [
    {
     "data": {
      "text/plain": [
       "array([2, 0, 1])"
      ]
     },
     "execution_count": 25,
     "metadata": {},
     "output_type": "execute_result"
    }
   ],
   "source": [
    "df.BMI_Encoded.unique()"
   ]
  },
  {
   "cell_type": "code",
   "execution_count": 26,
   "id": "9c171da9",
   "metadata": {},
   "outputs": [
    {
     "data": {
      "text/html": [
       "<div>\n",
       "<style scoped>\n",
       "    .dataframe tbody tr th:only-of-type {\n",
       "        vertical-align: middle;\n",
       "    }\n",
       "\n",
       "    .dataframe tbody tr th {\n",
       "        vertical-align: top;\n",
       "    }\n",
       "\n",
       "    .dataframe thead th {\n",
       "        text-align: right;\n",
       "    }\n",
       "</style>\n",
       "<table border=\"1\" class=\"dataframe\">\n",
       "  <thead>\n",
       "    <tr style=\"text-align: right;\">\n",
       "      <th></th>\n",
       "      <th>Under Weight</th>\n",
       "      <th>Normal</th>\n",
       "      <th>Over Weight</th>\n",
       "    </tr>\n",
       "  </thead>\n",
       "  <tbody>\n",
       "    <tr>\n",
       "      <th>0</th>\n",
       "      <td>2</td>\n",
       "      <td>0</td>\n",
       "      <td>1</td>\n",
       "    </tr>\n",
       "  </tbody>\n",
       "</table>\n",
       "</div>"
      ],
      "text/plain": [
       "   Under Weight  Normal  Over Weight\n",
       "0             2       0            1"
      ]
     },
     "execution_count": 26,
     "metadata": {},
     "output_type": "execute_result"
    }
   ],
   "source": [
    "encoded_table = pd.DataFrame(columns=['Under Weight', 'Normal', 'Over Weight'],data=[[2, 0, 1]], index=[0])\n",
    "encoded_table"
   ]
  },
  {
   "cell_type": "code",
   "execution_count": 27,
   "id": "531ade78",
   "metadata": {},
   "outputs": [],
   "source": [
    "new_df = df.drop(['Height(Inches)', 'Weight(Pounds)', 'BMI_Result', 'weight_in_kg', 'height_in_meter'], axis = 1)"
   ]
  },
  {
   "cell_type": "code",
   "execution_count": 28,
   "id": "4196ca5d",
   "metadata": {},
   "outputs": [
    {
     "data": {
      "text/html": [
       "<div>\n",
       "<style scoped>\n",
       "    .dataframe tbody tr th:only-of-type {\n",
       "        vertical-align: middle;\n",
       "    }\n",
       "\n",
       "    .dataframe tbody tr th {\n",
       "        vertical-align: top;\n",
       "    }\n",
       "\n",
       "    .dataframe thead th {\n",
       "        text-align: right;\n",
       "    }\n",
       "</style>\n",
       "<table border=\"1\" class=\"dataframe\">\n",
       "  <thead>\n",
       "    <tr style=\"text-align: right;\">\n",
       "      <th></th>\n",
       "      <th>BMI_Value</th>\n",
       "      <th>BMI_Encoded</th>\n",
       "    </tr>\n",
       "  </thead>\n",
       "  <tbody>\n",
       "    <tr>\n",
       "      <th>0</th>\n",
       "      <td>18.354409</td>\n",
       "      <td>2</td>\n",
       "    </tr>\n",
       "    <tr>\n",
       "      <th>1</th>\n",
       "      <td>18.759344</td>\n",
       "      <td>0</td>\n",
       "    </tr>\n",
       "    <tr>\n",
       "      <th>2</th>\n",
       "      <td>22.335046</td>\n",
       "      <td>0</td>\n",
       "    </tr>\n",
       "    <tr>\n",
       "      <th>3</th>\n",
       "      <td>21.500820</td>\n",
       "      <td>0</td>\n",
       "    </tr>\n",
       "    <tr>\n",
       "      <th>4</th>\n",
       "      <td>22.073776</td>\n",
       "      <td>0</td>\n",
       "    </tr>\n",
       "  </tbody>\n",
       "</table>\n",
       "</div>"
      ],
      "text/plain": [
       "   BMI_Value  BMI_Encoded\n",
       "0  18.354409            2\n",
       "1  18.759344            0\n",
       "2  22.335046            0\n",
       "3  21.500820            0\n",
       "4  22.073776            0"
      ]
     },
     "execution_count": 28,
     "metadata": {},
     "output_type": "execute_result"
    }
   ],
   "source": [
    "new_df.head()"
   ]
  },
  {
   "cell_type": "code",
   "execution_count": 29,
   "id": "baadbb92",
   "metadata": {},
   "outputs": [
    {
     "data": {
      "image/png": "[encoded data removed]",
      "text/plain": [
       "<Figure size 640x480 with 1 Axes>"
      ]
     },
     "metadata": {},
     "output_type": "display_data"
    }
   ],
   "source": [
    "plt.bar(new_df.BMI_Value, height=2)\n",
    "plt.show()"
   ]
  },
  {
   "cell_type": "code",
   "execution_count": 30,
   "id": "61a065e5",
   "metadata": {},
   "outputs": [],
   "source": [
    "X_train, X_test, y_train, y_test = train_test_split(new_df[['BMI_Value']], new_df.BMI_Encoded, test_size=0.2)"
   ]
  },
  {
   "cell_type": "code",
   "execution_count": 31,
   "id": "9b695ea0",
   "metadata": {},
   "outputs": [
    {
     "data": {
      "text/html": [
       "<div>\n",
       "<style scoped>\n",
       "    .dataframe tbody tr th:only-of-type {\n",
       "        vertical-align: middle;\n",
       "    }\n",
       "\n",
       "    .dataframe tbody tr th {\n",
       "        vertical-align: top;\n",
       "    }\n",
       "\n",
       "    .dataframe thead th {\n",
       "        text-align: right;\n",
       "    }\n",
       "</style>\n",
       "<table border=\"1\" class=\"dataframe\">\n",
       "  <thead>\n",
       "    <tr style=\"text-align: right;\">\n",
       "      <th></th>\n",
       "      <th>BMI_Value</th>\n",
       "    </tr>\n",
       "  </thead>\n",
       "  <tbody>\n",
       "    <tr>\n",
       "      <th>16839</th>\n",
       "      <td>21.331846</td>\n",
       "    </tr>\n",
       "  </tbody>\n",
       "</table>\n",
       "</div>"
      ],
      "text/plain": [
       "       BMI_Value\n",
       "16839  21.331846"
      ]
     },
     "execution_count": 31,
     "metadata": {},
     "output_type": "execute_result"
    }
   ],
   "source": [
    "X_train.head(1)"
   ]
  },
  {
   "cell_type": "code",
   "execution_count": 32,
   "id": "dda8500b",
   "metadata": {},
   "outputs": [
    {
     "data": {
      "text/plain": [
       "5000"
      ]
     },
     "execution_count": 32,
     "metadata": {},
     "output_type": "execute_result"
    }
   ],
   "source": [
    "len(X_test)"
   ]
  },
  {
   "cell_type": "code",
   "execution_count": 33,
   "id": "87303b68",
   "metadata": {},
   "outputs": [
    {
     "data": {
      "text/plain": [
       "LinearRegression()"
      ]
     },
     "execution_count": 33,
     "metadata": {},
     "output_type": "execute_result"
    }
   ],
   "source": [
    "lr = LinearRegression()\n",
    "lr.fit(X_train, y_train)"
   ]
  },
  {
   "cell_type": "code",
   "execution_count": 34,
   "id": "e8768d51",
   "metadata": {},
   "outputs": [],
   "source": [
    "y_Predict = lr.predict(X_test)"
   ]
  },
  {
   "cell_type": "code",
   "execution_count": 35,
   "id": "0ec48b5b",
   "metadata": {
    "scrolled": true
   },
   "outputs": [
    {
     "data": {
      "text/plain": [
       "array([0.53839734, 0.54846526, 0.55556356, 0.55674577, 0.54753147])"
      ]
     },
     "execution_count": 35,
     "metadata": {},
     "output_type": "execute_result"
    }
   ],
   "source": [
    "cross_val_score(LinearRegression(), X_train, y_train)"
   ]
  },
  {
   "cell_type": "code",
   "execution_count": 36,
   "id": "1a9f73af",
   "metadata": {},
   "outputs": [
    {
     "data": {
      "text/plain": [
       "array([0.9995 , 0.99975, 0.9995 , 0.99975, 0.9995 ])"
      ]
     },
     "execution_count": 36,
     "metadata": {},
     "output_type": "execute_result"
    }
   ],
   "source": [
    "cross_val_score(LogisticRegression(), X_train, y_train)"
   ]
  },
  {
   "cell_type": "code",
   "execution_count": 37,
   "id": "214e11b3",
   "metadata": {},
   "outputs": [],
   "source": [
    "model = LogisticRegression()"
   ]
  },
  {
   "cell_type": "code",
   "execution_count": 38,
   "id": "343aa85f",
   "metadata": {},
   "outputs": [
    {
     "data": {
      "text/plain": [
       "LogisticRegression()"
      ]
     },
     "execution_count": 38,
     "metadata": {},
     "output_type": "execute_result"
    }
   ],
   "source": [
    "model.fit(X_train.values, y_train)"
   ]
  },
  {
   "cell_type": "code",
   "execution_count": 39,
   "id": "3644463b",
   "metadata": {
    "scrolled": true
   },
   "outputs": [],
   "source": [
    "predicted = model.predict(X_test.values)"
   ]
  },
  {
   "cell_type": "code",
   "execution_count": 40,
   "id": "1f8c54f9",
   "metadata": {},
   "outputs": [
    {
     "data": {
      "text/plain": [
       "(5000,)"
      ]
     },
     "execution_count": 40,
     "metadata": {},
     "output_type": "execute_result"
    }
   ],
   "source": [
    "predicted.shape"
   ]
  },
  {
   "cell_type": "code",
   "execution_count": 41,
   "id": "3fdbffe8",
   "metadata": {},
   "outputs": [
    {
     "data": {
      "text/plain": [
       "(5000,)"
      ]
     },
     "execution_count": 41,
     "metadata": {},
     "output_type": "execute_result"
    }
   ],
   "source": [
    "y_test.shape"
   ]
  },
  {
   "cell_type": "code",
   "execution_count": 42,
   "id": "c504d0d8",
   "metadata": {
    "scrolled": true
   },
   "outputs": [],
   "source": [
    "score = model.score(X_test.values, predicted)"
   ]
  },
  {
   "cell_type": "code",
   "execution_count": 49,
   "id": "56eead78",
   "metadata": {},
   "outputs": [
    {
     "data": {
      "text/plain": [
       "1.0"
      ]
     },
     "execution_count": 49,
     "metadata": {},
     "output_type": "execute_result"
    }
   ],
   "source": [
    "score"
   ]
  },
  {
   "cell_type": "code",
   "execution_count": 43,
   "id": "120c5117",
   "metadata": {},
   "outputs": [
    {
     "data": {
      "text/plain": [
       "0.9996"
      ]
     },
     "execution_count": 43,
     "metadata": {},
     "output_type": "execute_result"
    }
   ],
   "source": [
    "accuracy_score(predicted, y_test)"
   ]
  },
  {
   "cell_type": "code",
   "execution_count": 44,
   "id": "aa505bd7",
   "metadata": {},
   "outputs": [],
   "source": [
    "confussion = confusion_matrix(y_test, predicted)"
   ]
  },
  {
   "cell_type": "code",
   "execution_count": 45,
   "id": "2f708eef",
   "metadata": {
    "scrolled": true
   },
   "outputs": [
    {
     "name": "stdout",
     "output_type": "stream",
     "text": [
      "Machine Accuracy 100.0 %\n"
     ]
    }
   ],
   "source": [
    "print('Machine Accuracy', score * 100,'%')"
   ]
  },
  {
   "cell_type": "code",
   "execution_count": 46,
   "id": "545bb11f",
   "metadata": {},
   "outputs": [
    {
     "data": {
      "image/png": "[encoded data removed]",
      "text/plain": [
       "<Figure size 500x500 with 2 Axes>"
      ]
     },
     "metadata": {},
     "output_type": "display_data"
    }
   ],
   "source": [
    "label = ['Under Weight', 'Normal', 'Over Weight']\n",
    "plt.figure(figsize=(5, 5))\n",
    "sns.heatmap(confussion, annot=True, fmt='0.1%')\n",
    "plt.show()"
   ]
  },
  {
   "cell_type": "code",
   "execution_count": 47,
   "id": "6793da24",
   "metadata": {},
   "outputs": [
    {
     "data": {
      "text/plain": [
       "array([2])"
      ]
     },
     "execution_count": 47,
     "metadata": {},
     "output_type": "execute_result"
    }
   ],
   "source": [
    "model.predict([[1]])"
   ]
  },
  {
   "cell_type": "markdown",
   "id": "d21422bb",
   "metadata": {},
   "source": [
    "<table>\n",
    "    <thead>\n",
    "        <th>BMI</th>\n",
    "        <th>Status</th>\n",
    "    </thead>\n",
    "    <tbody>\n",
    "        <tr>\n",
    "            <td><=18.4</td>\n",
    "            <td>Under Weight</td>\n",
    "        </tr>\n",
    "        <tr>\n",
    "            <td>18.5 - 24.9</td>\n",
    "            <td>Normal</td>\n",
    "        </tr>\n",
    "        <tr>\n",
    "            <td>25 - 39.9</td>\n",
    "            <td>Over Weight</td>\n",
    "        </tr>\n",
    "        <tr>\n",
    "            <td>>=18.4</td>\n",
    "            <td>Obese</td>\n",
    "        </tr>\n",
    "    </tbody>\n",
    "</table>"
   ]
  },
  {
   "cell_type": "code",
   "execution_count": 58,
   "id": "48134f21",
   "metadata": {},
   "outputs": [],
   "source": [
    "pickle.dump(model, open('model.pkl', 'wb'))\n",
    "#pickle.dump(mnb, open('model.pkl', 'wb'))"
   ]
  }
 ],
 "metadata": {
  "kernelspec": {
   "display_name": "Python 3 (ipykernel)",
   "language": "python",
   "name": "python3"
  },
  "language_info": {
   "codemirror_mode": {
    "name": "ipython",
    "version": 3
   },
   "file_extension": ".py",
   "mimetype": "text/x-python",
   "name": "python",
   "nbconvert_exporter": "python",
   "pygments_lexer": "ipython3",
   "version": "3.9.13"
  }
 },
 "nbformat": 4,
 "nbformat_minor": 5
}
